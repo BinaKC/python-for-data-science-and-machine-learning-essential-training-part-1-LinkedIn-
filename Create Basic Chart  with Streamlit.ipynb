{
 "cells": [
  {
   "cell_type": "code",
   "execution_count": 3,
   "id": "8a502487",
   "metadata": {},
   "outputs": [
    {
     "data": {
      "text/plain": [
       "DeltaGenerator()"
      ]
     },
     "execution_count": 3,
     "metadata": {},
     "output_type": "execute_result"
    }
   ],
   "source": [
    "import pandas as pd\n",
    "import numpy as np\n",
    "import streamlit as st\n",
    "import matplotlib.pyplot as plt\n",
    "\n",
    "col_names = ['column1','column2','column3']\n",
    "data = pd.DataFrame(np.random.randint(30, size=(30, 3)),columns=col_names)\n",
    "\n",
    "'line graph:'\n",
    "st.line_chart(data)\n",
    "\n",
    "'line graph:'\n",
    "st.line_chart(data)\n",
    "\n",
    "'bar graph:'\n",
    "st.bar_chart(data)\n",
    "\n",
    "animals = ['cat', 'cow', 'dog']\n",
    "heights  = [30, 150, 80]\n",
    "\n",
    "'pie chart:'\n",
    "fig, ax = plt.subplots()\n",
    "ax.pie(heights,labels=animals)\n",
    "\n",
    "st.pyplot(fig)\n"
   ]
  },
  {
   "cell_type": "code",
   "execution_count": null,
   "id": "87fdd3e5",
   "metadata": {},
   "outputs": [],
   "source": []
  }
 ],
 "metadata": {
  "kernelspec": {
   "display_name": "Python 3 (ipykernel)",
   "language": "python",
   "name": "python3"
  },
  "language_info": {
   "codemirror_mode": {
    "name": "ipython",
    "version": 3
   },
   "file_extension": ".py",
   "mimetype": "text/x-python",
   "name": "python",
   "nbconvert_exporter": "python",
   "pygments_lexer": "ipython3",
   "version": "3.11.5"
  }
 },
 "nbformat": 4,
 "nbformat_minor": 5
}

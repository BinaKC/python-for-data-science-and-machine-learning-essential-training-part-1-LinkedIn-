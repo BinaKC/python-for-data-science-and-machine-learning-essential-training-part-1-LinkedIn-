{
 "cells": [
  {
   "cell_type": "markdown",
   "id": "ea700a7c",
   "metadata": {},
   "source": [
    "## Bar Chart and pie charts in streamlit"
   ]
  },
  {
   "cell_type": "code",
   "execution_count": 1,
   "id": "5583ca2a",
   "metadata": {},
   "outputs": [],
   "source": [
    "import pandas as pd\n",
    "import numpy as np\n",
    "import streamlit as st\n",
    "import matplotlib.pyplot as plt\n",
    "\n",
    "animals  = ['cat','cow','dog','goat']\n",
    "heights  = [30,150,80,60]\n",
    "weights = [5,400,40,50]\n",
    "fig,ax = plt.subplots()"
   ]
  },
  {
   "cell_type": "code",
   "execution_count": 2,
   "id": "fc8271c3",
   "metadata": {},
   "outputs": [
    {
     "data": {
      "text/plain": [
       "<BarContainer object of 4 artists>"
      ]
     },
     "execution_count": 2,
     "metadata": {},
     "output_type": "execute_result"
    }
   ],
   "source": [
    "x = np.arange(len(heights))\n",
    "width = 0.40\n",
    "\n",
    "ax.bar(x-0.2, heights, width, color='red')\n",
    "ax.bar(x+0.2, weights, width, color='orange')\n"
   ]
  },
  {
   "cell_type": "code",
   "execution_count": 3,
   "id": "8a69c2ea",
   "metadata": {},
   "outputs": [
    {
     "data": {
      "text/plain": [
       "[Text(0, 0, 'cat'), Text(1, 0, 'cow'), Text(2, 0, 'dog'), Text(3, 0, 'goat')]"
      ]
     },
     "execution_count": 3,
     "metadata": {},
     "output_type": "execute_result"
    }
   ],
   "source": [
    "ax.legend(['height','weight'])\n",
    "ax.set_xticks(x)\n",
    "ax.set_xticklabels(animals)"
   ]
  },
  {
   "cell_type": "code",
   "execution_count": 4,
   "id": "1f493829",
   "metadata": {},
   "outputs": [
    {
     "name": "stderr",
     "output_type": "stream",
     "text": [
      "2024-11-23 13:06:09.172 \n",
      "  \u001b[33m\u001b[1mWarning:\u001b[0m to view this Streamlit app on a browser, run it with the following\n",
      "  command:\n",
      "\n",
      "    streamlit run C:\\Users\\hp\\anaconda3\\Lib\\site-packages\\ipykernel_launcher.py [ARGUMENTS]\n"
     ]
    },
    {
     "data": {
      "text/plain": [
       "DeltaGenerator()"
      ]
     },
     "execution_count": 4,
     "metadata": {},
     "output_type": "execute_result"
    }
   ],
   "source": [
    "st.pyplot(fig)\n"
   ]
  },
  {
   "cell_type": "code",
   "execution_count": 5,
   "id": "ffaa30ce",
   "metadata": {},
   "outputs": [
    {
     "data": {
      "text/plain": [
       "DeltaGenerator()"
      ]
     },
     "execution_count": 5,
     "metadata": {},
     "output_type": "execute_result"
    }
   ],
   "source": [
    "explode = [0.2, 0.1, 0.1, 0.1]\n",
    "plot_pie, ax = plt.subplots()\n",
    "ax.pie(heights, explode = explode, labels=animals, autopct='%1.1f%%', shadow = True)\n",
    "ax.axis('equal')\n",
    "st.pyplot(plot_pie)"
   ]
  },
  {
   "cell_type": "code",
   "execution_count": null,
   "id": "b9ab1745",
   "metadata": {},
   "outputs": [],
   "source": []
  }
 ],
 "metadata": {
  "kernelspec": {
   "display_name": "Python 3 (ipykernel)",
   "language": "python",
   "name": "python3"
  },
  "language_info": {
   "codemirror_mode": {
    "name": "ipython",
    "version": 3
   },
   "file_extension": ".py",
   "mimetype": "text/x-python",
   "name": "python",
   "nbconvert_exporter": "python",
   "pygments_lexer": "ipython3",
   "version": "3.11.5"
  }
 },
 "nbformat": 4,
 "nbformat_minor": 5
}
